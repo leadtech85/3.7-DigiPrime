{
  "nbformat": 4,
  "nbformat_minor": 0,
  "metadata": {
    "colab": {
      "provenance": [],
      "gpuType": "L4",
      "toc_visible": true,
      "authorship_tag": "ABX9TyO6KkVRZsNV4Eccs9QXUl2T",
      "include_colab_link": true
    },
    "kernelspec": {
      "name": "python3",
      "display_name": "Python 3"
    },
    "language_info": {
      "name": "python"
    }
  },
  "cells": [
    {
      "cell_type": "markdown",
      "metadata": {
        "id": "view-in-github",
        "colab_type": "text"
      },
      "source": [
        "<a href=\"https://colab.research.google.com/github/leadtech85/3.7-DigiPrime/blob/main/category_mapping.ipynb\" target=\"_parent\"><img src=\"https://colab.research.google.com/assets/colab-badge.svg\" alt=\"Open In Colab\"/></a>"
      ]
    },
    {
      "cell_type": "markdown",
      "source": [
        "## Category Mapping POC"
      ],
      "metadata": {
        "id": "a6LWn9tyn3Xt"
      }
    },
    {
      "cell_type": "markdown",
      "source": [
        "## Preparation Zero: Setup\n",
        "\n",
        "*   Google drive connection\n",
        "*   etc\n"
      ],
      "metadata": {
        "id": "wlN9LJbbn_Nc"
      }
    },
    {
      "cell_type": "code",
      "source": [
        "OPTIONS = {}\n",
        "\n",
        "USE_GOOGLE_DRIVE = True  #@param {type:\"boolean\"}\n",
        "\n",
        "OPTIONS['USE_GOOGLE_DRIVE'] = USE_GOOGLE_DRIVE\n",
        "\n",
        "current_dir = !pwd\n",
        "WORKSPACE = f\"{current_dir[0]}/sellmore-poc-category-mapping\"\n",
        "\n",
        "if OPTIONS['USE_GOOGLE_DRIVE']:\n",
        "    !echo \"Mounting Google Drive...\"\n",
        "    %cd /\n",
        "    from google.colab import drive\n",
        "    drive.mount('/content/drive')\n",
        "\n",
        "    WORKSPACE = \"/content/drive/MyDrive/category-mapping\" #@param\n",
        "    %cd /content/drive/MyDrive\n"
      ],
      "metadata": {
        "colab": {
          "base_uri": "https://localhost:8080/"
        },
        "id": "e3HZc6n6oZqM",
        "outputId": "66ac1a70-2fca-4b1a-f881-931d0bfe7db4"
      },
      "execution_count": 2,
      "outputs": [
        {
          "output_type": "stream",
          "name": "stdout",
          "text": [
            "Mounting Google Drive...\n",
            "/\n",
            "Mounted at /content/drive\n",
            "/content/drive/MyDrive\n"
          ]
        }
      ]
    },
    {
      "cell_type": "markdown",
      "source": [
        "## Preparation One: Generate config json\n",
        "\n",
        "\n",
        "*   Generates recore category from authorization token\n",
        "*   Output\n",
        "      - **{ec name}_ec_config.json**\n",
        "\n",
        "\n",
        "\n",
        "\n",
        "\n",
        "\n",
        "\n",
        "\n",
        "\n",
        "\n",
        "\n",
        "\n",
        "\n",
        "\n"
      ],
      "metadata": {
        "id": "MDX1TVDps9Ic"
      }
    },
    {
      "cell_type": "code",
      "source": [
        "import requests\n",
        "import json\n",
        "\n",
        "authorization = \"authorization token\" #@param\n",
        "\n",
        "\n",
        "def main():\n",
        "    # Common headers for all requests\n",
        "    headers = {\n",
        "        \"accept\": \"application/json, text/plain, */*\",\n",
        "        \"accept-language\": \"ja,en-US;q=0.9,en;q=0.8\",\n",
        "        \"authorization\": authorization,\n",
        "        \"origin\": \"https://app.sellmore.cc\",\n",
        "        \"priority\": \"u=1, i\",\n",
        "        \"referer\": \"https://app.sellmore.cc/\",\n",
        "        \"sec-ch-ua\": '\"Not)A;Brand\";v=\"8\", \"Chromium\";v=\"138\", \"Google Chrome\";v=\"138\"',\n",
        "        \"sec-ch-ua-mobile\": \"?0\",\n",
        "        \"sec-ch-ua-platform\": '\"Linux\"',\n",
        "        \"sec-fetch-dest\": \"empty\",\n",
        "        \"sec-fetch-mode\": \"cors\",\n",
        "        \"sec-fetch-site\": \"cross-site\",\n",
        "        \"user-agent\": \"Mozilla/5.0 (X11; Linux x86_64) AppleWebKit/537.36 (KHTML, like Gecko) Chrome/138.0.0.0 Safari/537.36\",\n",
        "        \"x-staff-code\": \"SF0000000000\",\n",
        "    }\n",
        "\n",
        "    try:\n",
        "        # Step 1: Get the configs to extract ec_accounts\n",
        "        print(\"Fetching configs...\")\n",
        "        configs_url = \"https://api.recore-pos.com/v1/configs\"\n",
        "        response = requests.get(configs_url, headers=headers)\n",
        "        response.raise_for_status()\n",
        "\n",
        "        configs_data = response.json()\n",
        "        print(f\"Configs response status: {response.status_code}\")\n",
        "\n",
        "        # Extract ec_accounts from the response\n",
        "        ec_accounts = configs_data.get(\"ec_accounts\", [])\n",
        "        print(f\"Found {len(ec_accounts)} EC accounts:\")\n",
        "\n",
        "        for account in ec_accounts:\n",
        "            print(\n",
        "                f\"  - ID: {account['id']}, Mall: {account['mall_name']}, Name: {account['name']}, Active: {account['is_active']}\"\n",
        "            )\n",
        "\n",
        "        # Step 2: Loop through each ec_account_id and get their config\n",
        "        print(\"\\nFetching individual account configs...\")\n",
        "        account_configs = {}\n",
        "\n",
        "        for account in ec_accounts:\n",
        "            account_id = account[\"id\"]\n",
        "            account_name = account[\"name\"]\n",
        "\n",
        "            print(f\"\\nFetching config for account ID {account_id} ({account_name})...\")\n",
        "\n",
        "            config_url = (\n",
        "                f\"https://api.recore-pos.com/v1/ec/accounts/{account_id}/config\"\n",
        "            )\n",
        "\n",
        "            try:\n",
        "                config_response = requests.get(config_url, headers=headers)\n",
        "                config_response.raise_for_status()\n",
        "\n",
        "                config_data = config_response.json()\n",
        "                account_configs[account_id] = {\n",
        "                    \"account_info\": account,\n",
        "                    \"config\": config_data,\n",
        "                }\n",
        "\n",
        "                print(f\"  ✓ Successfully fetched config for {account_name}\")\n",
        "                print(\n",
        "                    f\"  Config keys: {list(config_data.keys()) if isinstance(config_data, dict) else 'Non-dict response'}\"\n",
        "                )\n",
        "\n",
        "            except requests.exceptions.RequestException as e:\n",
        "                print(f\"  ✗ Error fetching config for {account_name}: {e}\")\n",
        "                account_configs[account_id] = {\n",
        "                    \"account_info\": account,\n",
        "                    \"config\": None,\n",
        "                    \"error\": str(e),\n",
        "                }\n",
        "\n",
        "        # Step 3: Save results - both combined file and individual files\n",
        "        # Save combined file\n",
        "        output_file = \"ec_accounts_configs.json\"\n",
        "        with open(output_file, \"w\", encoding=\"utf-8\") as f:\n",
        "            json.dump(\n",
        "                {\"configs\": configs_data, \"account_configs\": account_configs},\n",
        "                f,\n",
        "                indent=2,\n",
        "                ensure_ascii=False,\n",
        "            )\n",
        "\n",
        "        print(f\"\\n✓ Combined data saved to {output_file}\")\n",
        "\n",
        "        # Save individual files for each EC account\n",
        "        print(\"\\nSaving individual EC config files...\")\n",
        "        for account_id, account_data in account_configs.items():\n",
        "            account_info = account_data[\"account_info\"]\n",
        "            config = account_data.get(\"config\")\n",
        "\n",
        "            # Create filename based on account name (sanitized)\n",
        "            account_name = account_info[\"name\"].lower()\n",
        "            # Replace Japanese characters and special chars with safe alternatives\n",
        "            name_mapping = {\n",
        "                \"amazon\": \"amazon\",\n",
        "                \"ヤフオク！\": \"yauction\",\n",
        "                \"楽天\": \"rakuten\",\n",
        "                \"shopify\": \"shopify\",\n",
        "                \"ヤフーショッピング\": \"yshopping\",\n",
        "                \"ラクマ\": \"rakuma\",\n",
        "                \"メルカリshops\": \"mercari_shops\",\n",
        "            }\n",
        "\n",
        "            # Use mall_id as fallback if name mapping doesn't exist\n",
        "            safe_name = name_mapping.get(account_name, account_info[\"mall_id\"].lower())\n",
        "            filename = f\"{safe_name}_ec_config.json\"\n",
        "\n",
        "            # Prepare data for individual file\n",
        "            individual_data = {\n",
        "                \"account_info\": account_info,\n",
        "                \"config\": config,\n",
        "                \"error\": account_data.get(\"error\"),\n",
        "            }\n",
        "\n",
        "            try:\n",
        "                with open(filename, \"w\", encoding=\"utf-8\") as f:\n",
        "                    json.dump(individual_data, f, indent=2, ensure_ascii=False)\n",
        "                print(f\"  ✓ {account_info['name']} config saved to {filename}\")\n",
        "            except Exception as e:\n",
        "                print(f\"  ✗ Error saving {account_info['name']} config: {e}\")\n",
        "\n",
        "        print(f\"\\n✓ Individual EC config files created\")\n",
        "\n",
        "        # Summary\n",
        "        print(f\"\\nSummary:\")\n",
        "        print(f\"- Total accounts: {len(ec_accounts)}\")\n",
        "        print(\n",
        "            f\"- Successful config fetches: {sum(1 for config in account_configs.values() if config.get('config') is not None)}\"\n",
        "        )\n",
        "        print(\n",
        "            f\"- Failed config fetches: {sum(1 for config in account_configs.values() if config.get('config') is None)}\"\n",
        "        )\n",
        "\n",
        "        return account_configs\n",
        "\n",
        "    except requests.exceptions.RequestException as e:\n",
        "        print(f\"Error fetching configs: {e}\")\n",
        "        return None\n",
        "    except json.JSONDecodeError as e:\n",
        "        print(f\"Error parsing JSON response: {e}\")\n",
        "        return None\n",
        "    except Exception as e:\n",
        "        print(f\"Unexpected error: {e}\")\n",
        "        return None\n",
        "\n",
        "\n",
        "if __name__ == \"__main__\":\n",
        "    result = main()\n",
        "\n",
        "    # Optional: Print a sample of the data\n",
        "    if result:\n",
        "        print(\"\\nSample account config (first account):\")\n",
        "        first_account_id = list(result.keys())[0] if result else None\n",
        "        if first_account_id:\n",
        "            sample_config = result[first_account_id]\n",
        "            print(f\"Account: {sample_config['account_info']['name']}\")\n",
        "            if sample_config.get(\"config\"):\n",
        "                print(\n",
        "                    f\"Config preview: {json.dumps(sample_config['config'], indent=2, ensure_ascii=False)[:500]}...\"\n",
        "                )\n",
        "            else:\n",
        "                print(f\"Config error: {sample_config.get('error', 'Unknown error')}\")"
      ],
      "metadata": {
        "colab": {
          "base_uri": "https://localhost:8080/"
        },
        "id": "Aykk9FqwttK1",
        "outputId": "48e5b3cd-382b-4042-d8f0-4c952e4c59ed"
      },
      "execution_count": 3,
      "outputs": [
        {
          "output_type": "stream",
          "name": "stdout",
          "text": [
            "Fetching configs...\n",
            "Error fetching configs: 401 Client Error: Unauthorized for url: https://api.recore-pos.com/v1/configs\n"
          ]
        }
      ]
    }
  ]
}